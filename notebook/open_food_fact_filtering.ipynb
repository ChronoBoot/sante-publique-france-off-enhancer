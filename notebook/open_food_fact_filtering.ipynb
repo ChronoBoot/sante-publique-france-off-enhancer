{
 "cells": [
  {
   "cell_type": "markdown",
   "metadata": {
    "id": "view-in-github",
    "colab_type": "text"
   },
   "source": [
    "<a href=\"https://colab.research.google.com/github/ChronoBoot/sante-publique-france-off-enhancer/blob/test/notebook/open_food_fact_filtering.ipynb\" target=\"_parent\"><img src=\"https://colab.research.google.com/assets/colab-badge.svg\" alt=\"Open In Colab\"/></a>"
   ]
  },
  {
   "cell_type": "markdown",
   "metadata": {
    "id": "3kIaf24S7OqP"
   },
   "source": [
    "# Data prepartion for Open Food Facts"
   ]
  },
  {
   "cell_type": "markdown",
   "metadata": {
    "id": "zf-iYGfj64uX"
   },
   "source": [
    "## File loading and main class"
   ]
  },
  {
   "cell_type": "code",
   "execution_count": null,
   "metadata": {
    "id": "ZIALxMvnupoI"
   },
   "source": [
    "import pandas as pd\n",
    "\n",
    "off_df = pd.read_csv('fr.openfoodfacts.org.products.csv', delimiter = '\\t', low_memory=False)"
   ],
   "outputs": []
  },
  {
   "cell_type": "code",
   "execution_count": null,
   "metadata": {
    "colab": {
     "base_uri": "https://localhost:8080/"
    },
    "id": "Qo5hSbZd4QqS",
    "outputId": "6a2c99ee-a943-46da-845e-1fe6ad3aad28"
   },
   "source": [
    "print(f\"Number of products {len(off_df)}\")"
   ],
   "outputs": []
  },
  {
   "cell_type": "code",
   "execution_count": null,
   "metadata": {
    "id": "V5zyBCVHAGJb"
   },
   "source": [
    "class DataFrameField:\n",
    "    @staticmethod\n",
    "    def process_na_percent(col, set_na_percent=False):\n",
    "      na_percent = col.isna().mean() * 100\n",
    "      return na_percent\n",
    "\n",
    "    def __init__(self, name, dtype=None, na_percent=None, field_type=None):\n",
    "        \"\"\"\n",
    "        Initialize a DataFrameField object with only the name required at creation.\n",
    "        Other attributes can be set later.\n",
    "\n",
    "        Parameters:\n",
    "        - name (str): The name of the DataFrame column.\n",
    "        - dtype (str, optional): The data type of the column. Defaults to None.\n",
    "        - na_percent (float, optional): The percentage of missing (NA) values in the column. Defaults to None.\n",
    "        - field_type (str, optional): Specifies whether the field is 'categorical' or 'numerical'. Defaults to None.\n",
    "        \"\"\"\n",
    "        self.name = name\n",
    "        self.dtype = dtype\n",
    "        self.na_percent = na_percent\n",
    "        # The percentage of non-mising values in the column\n",
    "        self.fill_percent = 100 - na_percent if na_percent is not None else None\n",
    "        self.field_type = field_type\n",
    "\n",
    "    def __repr__(self):\n",
    "        \"\"\"\n",
    "        Provide a string representation of the DataFrameField instance.\n",
    "        \"\"\"\n",
    "        return (f\"DataFrameField(name='{self.name}', dtype='{self.dtype}', \"\n",
    "                f\"na_percent='{self.na_percent}', fill_percent='{self.fill_percent}',\"\n",
    "                f\"field_type='{self.field_type}')\")\n",
    "\n",
    "    def display_info(self):\n",
    "        \"\"\"\n",
    "        Print out the details of the DataFrameField instance.\n",
    "        \"\"\"\n",
    "        print(f\"Column Name: {self.name}\")\n",
    "        if self.dtype:\n",
    "            print(f\"Data Type: {self.dtype}\")\n",
    "        if self.na_percent is not None:\n",
    "            print(f\"Percentage of Missing Values: {self.na_percent}%\")\n",
    "        if self.fill_percent is not None :\n",
    "            print(f\"Percent of Non-Missing Values: {self.fill_percent}\")\n",
    "        if self.field_type:\n",
    "            print(f\"Field Type: {self.field_type}\")\n",
    "\n",
    "    # Additional methods to set attributes after object creation\n",
    "    def set_dtype(self, dtype):\n",
    "        self.dtype = dtype\n",
    "\n",
    "    def set_na_percent(self, na_percent):\n",
    "        self.na_percent = na_percent\n",
    "        self.fill_percent = 100 - na_percent\n",
    "\n",
    "    def set_field_type(self, field_type):\n",
    "        self.field_type = field_type\n",
    "\n",
    "    def process_and_set_na_percent(self, col):\n",
    "        na_percent = DataFrameField.process_na_percent(col)\n",
    "        self.set_na_percent(na_percent)\n",
    "\n"
   ],
   "outputs": []
  },
  {
   "cell_type": "markdown",
   "metadata": {
    "id": "AFIoJKID7KUT"
   },
   "source": [
    "## Step 1 : Cleaning and filtering of features and products"
   ]
  },
  {
   "cell_type": "markdown",
   "metadata": {
    "id": "ZVRjbXuE7emO"
   },
   "source": [
    "### Feature listing\n",
    "\n",
    "Split the columns attributes in 2, categorical and numerical"
   ]
  },
  {
   "cell_type": "code",
   "execution_count": null,
   "metadata": {
    "id": "XquJl1kG8zPk"
   },
   "source": [
    "def feature_listing(off_df):\n",
    "  categorical_columns = []\n",
    "  numerical_columns = []\n",
    "\n",
    "  for name, dtype in off_df.dtypes.items():\n",
    "    na_percent = DataFrameField.process_na_percent(off_df[name])\n",
    "\n",
    "    if(dtype == 'int64' or dtype == 'float64'):\n",
    "      df_col = DataFrameField(name, dtype, na_percent, field_type='numerical')\n",
    "      numerical_columns.append(df_col)\n",
    "    else:\n",
    "      df_col = DataFrameField(name, dtype, na_percent, field_type='categorical')\n",
    "      categorical_columns.append(df_col)\n",
    "\n",
    "  df_fields = categorical_columns + numerical_columns\n",
    "\n",
    "  return categorical_columns, numerical_columns, df_fields"
   ],
   "outputs": []
  },
  {
   "cell_type": "code",
   "execution_count": null,
   "metadata": {
    "id": "FvK5izZZ9dZl"
   },
   "source": [
    "categorical_columns, numerical_columns, df_fields = feature_listing(off_df)\n",
    "\n",
    "print(\"########## Categorical columns ##########\")\n",
    "\n",
    "for col in categorical_columns :\n",
    "  print(col)\n",
    "\n",
    "print(\"#######################################\")\n",
    "\n",
    "print(\"##########  Numerical columns ##########\")\n",
    "\n",
    "for col in numerical_columns :\n",
    "  print(col)\n",
    "\n",
    "print(\"#######################################\")"
   ],
   "outputs": []
  },
  {
   "cell_type": "markdown",
   "metadata": {
    "id": "caypVRJV9vfN"
   },
   "source": [
    "### Find a target"
   ]
  },
  {
   "cell_type": "markdown",
   "metadata": {
    "id": "mZCseBvl90au"
   },
   "source": [
    "We find which columns have more than 50% of values missing and we return the one with the most amount of non-missing values.\n",
    "We will prefer to have the target to be as close a 50% missing value as possible because with too little values, prediction is going to be harder and less reliable"
   ]
  },
  {
   "cell_type": "code",
   "execution_count": null,
   "metadata": {
    "id": "S3oeioNzB-Wj"
   },
   "source": [
    "def find_target(columns):\n",
    "  candidates = []\n",
    "  for col in columns :\n",
    "    if col.na_percent > 50 :\n",
    "      candidates.append(col)\n",
    "\n",
    "  return candidates\n",
    "\n",
    "def get_recommanded_target(columns, nb_choice = 1):\n",
    "  candidates = find_target(columns)\n",
    "  targets = []\n",
    "\n",
    "  for i in range (0, nb_choice):\n",
    "    target = min(candidates, key = lambda candidate : candidate.na_percent)\n",
    "    targets.append(target)\n",
    "    candidates.remove(target)\n",
    "\n",
    "  return targets\n"
   ],
   "outputs": []
  },
  {
   "cell_type": "code",
   "execution_count": null,
   "metadata": {
    "colab": {
     "base_uri": "https://localhost:8080/"
    },
    "id": "_WrhbOYiC9oa",
    "outputId": "8467cacc-ba65-40f5-d92a-8f3f902597d8"
   },
   "source": [
    "candidates = find_target(categorical_columns)\n",
    "\n",
    "nb_candidates = len(candidates)\n",
    "\n",
    "print(f\"Number of candidates : {nb_candidates}\")\n",
    "\n",
    "targets = get_recommanded_target(categorical_columns, 10)\n",
    "\n",
    "for target in targets :\n",
    "  print(target)"
   ],
   "outputs": []
  },
  {
   "cell_type": "code",
   "execution_count": null,
   "metadata": {
    "id": "-RFnqjKc-v4y"
   },
   "source": [
    "target_name = \"pnns_groups_1\""
   ],
   "outputs": []
  },
  {
   "cell_type": "markdown",
   "metadata": {
    "id": "WiAWX9UXHJbx"
   },
   "source": [
    "The chosen target is pnns_group_1 which most like stands for PNNS (Programme National Nutrition Santé) which categorize foods."
   ]
  },
  {
   "cell_type": "markdown",
   "metadata": {
    "id": "KgLrqyua-UMd"
   },
   "source": [
    "### Remove rows without the target value"
   ]
  },
  {
   "cell_type": "code",
   "execution_count": null,
   "metadata": {
    "id": "78F47PCYHtmQ"
   },
   "source": [
    "def filtered_row(df, target_name):\n",
    "  filtered_off_df = df[df[target_name].notna()]\n",
    "  return filtered_off_df"
   ],
   "outputs": []
  },
  {
   "cell_type": "code",
   "execution_count": null,
   "metadata": {
    "colab": {
     "base_uri": "https://localhost:8080/"
    },
    "id": "aRpecEu5b7dI",
    "outputId": "f6503832-f7ef-4872-e402-8f17af17d3b8"
   },
   "source": [
    "filtered_off_df = filtered_row(off_df, target_name)\n",
    "print(f\"Number of product with PNNS indicated : {len(filtered_off_df)}\")"
   ],
   "outputs": []
  },
  {
   "cell_type": "markdown",
   "metadata": {
    "id": "Atv2T1D--lmY"
   },
   "source": [
    "### Separate target from dataset"
   ]
  },
  {
   "cell_type": "code",
   "execution_count": null,
   "metadata": {
    "id": "TFHlLWtt-qWR"
   },
   "source": [
    "def separate_target_from_dataset(target_name, df, df_fields):\n",
    "  target_col = df[target_name]\n",
    "  filtered_off_df = df.drop(target_name, axis=1)\n",
    "  df_fields = [field for field in df_fields if field.name != target_name]\n",
    "\n",
    "  return target_col, filtered_off_df, df_fields"
   ],
   "outputs": []
  },
  {
   "cell_type": "code",
   "execution_count": null,
   "metadata": {
    "id": "6aEkLvANc7Iv"
   },
   "source": [
    "target_col, filtered_off_df, df_fields = separate_target_from_dataset(target_name, filtered_off_df, df_fields)"
   ],
   "outputs": []
  },
  {
   "cell_type": "markdown",
   "metadata": {
    "id": "p7HNXbBI_MeQ"
   },
   "source": [
    "### Display the fill rates of the features of the dataset"
   ]
  },
  {
   "cell_type": "code",
   "execution_count": null,
   "metadata": {
    "colab": {
     "background_save": true
    },
    "id": "B2F6VnOs_uYB"
   },
   "source": [
    "def display_rate(df_fields):\n",
    "  for field in df_fields :\n",
    "    field.process_and_set_na_percent(filtered_off_df[field.name])\n",
    "    print(f\"Fill rate {field.name} : {field.fill_percent}\")"
   ],
   "outputs": []
  },
  {
   "cell_type": "code",
   "execution_count": null,
   "metadata": {
    "colab": {
     "background_save": true
    },
    "id": "K5MEo-I6cw5x",
    "outputId": "7782700a-17f6-4336-cfd1-8e5c72014558"
   },
   "source": [
    "display_rate(df_fields)"
   ],
   "outputs": []
  },
  {
   "cell_type": "markdown",
   "metadata": {
    "id": "CvRocj2aEHG3"
   },
   "source": [
    "### Feature selection\n",
    "\n",
    "We select features with more than 50% of non-missing values which could be use for predicting our target"
   ]
  },
  {
   "cell_type": "code",
   "execution_count": null,
   "metadata": {
    "id": "pvBCWZzXETch"
   },
   "source": [
    "def features_selection(df_fields):\n",
    "  features = []\n",
    "\n",
    "  for field in df_fields:\n",
    "    if(field.fill_percent > 50):\n",
    "      features.append(field)\n",
    "\n",
    "  return features"
   ],
   "outputs": []
  },
  {
   "cell_type": "code",
   "execution_count": null,
   "metadata": {
    "id": "2KAarPjAF1KG"
   },
   "source": [
    "features = features_selection(df_fields)\n",
    "\n",
    "for feature in features :\n",
    "  print(feature)"
   ],
   "outputs": []
  },
  {
   "cell_type": "markdown",
   "metadata": {
    "id": "G2tdqJ4aK5fo"
   },
   "source": [
    "The features that have been selected are as follow :\n",
    "\n",
    "- ingredients_text\n",
    "- additives\n",
    "- additives_n\n",
    "- ingredients_from_palm_oil_n\n",
    "- ingredients_that_may_be_from_palm_oil_n\n",
    "- energy_100g\n",
    "- fat_100g\n",
    "- saturated-fat_100g\n",
    "- carbohydrates_100g\n",
    "- sugars_100g\n",
    "- fiber_100g\n",
    "- proteins_100g\n",
    "- salt_100g\n",
    "- sodium_100g\n",
    "\n",
    "They are focus on the ingredients or nutrition facts"
   ]
  },
  {
   "cell_type": "markdown",
   "metadata": {
    "id": "05oQyvayRA02"
   },
   "source": [
    "### Delete duplicates"
   ]
  },
  {
   "cell_type": "markdown",
   "metadata": {
    "id": "7HOEMx20S-EC"
   },
   "source": [
    "We consider that 2 products with the same name are a duplicate"
   ]
  },
  {
   "cell_type": "code",
   "source": [
    "def delete_duplicates(df, identifier_name):\n",
    "   df[identifier_name] = df[identifier_name].str.lower().str.strip().str.replace(\" \", \"\")\n",
    "   no_duplicate_df = df.drop_duplicates(subset=identifier_name)\n",
    "   return no_duplicate_df"
   ],
   "metadata": {
    "id": "DqLsF-8Gjdfh"
   },
   "execution_count": 168,
   "outputs": []
  },
  {
   "cell_type": "code",
   "execution_count": 165,
   "metadata": {
    "id": "dntGzhZ4RDwz"
   },
   "source": [
    "identifier_name = 'product_name'\n",
    "\n",
    "filtered_off_no_duplicates = delete_duplicates(filtered_off_df, identifier_name)"
   ],
   "outputs": []
  },
  {
   "cell_type": "markdown",
   "metadata": {
    "id": "5tXJEJ2taiWL"
   },
   "source": [
    "### Main function to clean and filter features and products"
   ]
  },
  {
   "cell_type": "code",
   "source": [
    "def main(df):\n",
    "  categorical_columns, numerical_columns, df_fields = feature_listing(df)\n",
    "\n",
    "  candidates = find_target(categorical_columns)\n",
    "\n",
    "  target_name = \"pnns_groups_1\"\n",
    "\n",
    "  filtered_off_df = filtered_row(df, target_name)\n",
    "  print(f\"Number of lines with {target_name} : {len(filtered_off_df)}\")\n",
    "\n",
    "  target_col, filtered_off_df, df_fields = separate_target_from_dataset(target_name, filtered_off_df, df_fields)\n",
    "\n",
    "  #display_rate(df_fields)\n",
    "\n",
    "  features = features_selection(df_fields)\n",
    "\n",
    "  identifier_name = 'product_name'\n",
    "\n",
    "  filtered_off_no_duplicates = delete_duplicates(filtered_off_df, identifier_name)\n",
    "  print(f\"Number of lines with {target_name} and without duplicates: {len(filtered_off_no_duplicates)}\")\n"
   ],
   "metadata": {
    "id": "M_rIcUgdiiVl"
   },
   "execution_count": 171,
   "outputs": []
  },
  {
   "cell_type": "code",
   "source": [
    "main(off_df)"
   ],
   "metadata": {
    "colab": {
     "base_uri": "https://localhost:8080/"
    },
    "id": "5E0ftvqgijto",
    "outputId": "7ebcda6f-7e5c-4808-a901-914765faa104"
   },
   "execution_count": 172,
   "outputs": []
  },
  {
   "cell_type": "markdown",
   "metadata": {
    "id": "UoLX0g2V9Agx"
   },
   "source": [
    "## Step 2 : Identify and process incoherent values"
   ]
  },
  {
   "cell_type": "markdown",
   "metadata": {
    "id": "7iIv6_aF9HjE"
   },
   "source": [
    "## Step 3 : Identify and process missing values"
   ]
  },
  {
   "cell_type": "markdown",
   "metadata": {
    "id": "hRQ0sa8f9PME"
   },
   "source": [
    "## Step 4 : Perform univariate and bivariate analyses"
   ]
  },
  {
   "cell_type": "markdown",
   "metadata": {
    "id": "6erdzQaU9gDt"
   },
   "source": [
    "## Step 5 : Perform a multivariate analysis"
   ]
  }
 ],
 "metadata": {
  "colab": {
   "collapsed_sections": [
    "caypVRJV9vfN",
    "KgLrqyua-UMd",
    "Atv2T1D--lmY",
    "p7HNXbBI_MeQ"
   ],
   "provenance": [],
   "authorship_tag": "ABX9TyMxpqWMBZl2M0Xms0LEkENQ",
   "include_colab_link": true
  },
  "kernelspec": {
   "display_name": "Python 3",
   "name": "python3"
  },
  "language_info": {
   "name": "python"
  }
 },
 "nbformat": 4,
 "nbformat_minor": 0
}
