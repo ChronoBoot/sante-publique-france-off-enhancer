{
  "cells": [
    {
      "cell_type": "markdown",
      "metadata": {
        "id": "view-in-github",
        "colab_type": "text"
      },
      "source": [
        "<a href=\"https://colab.research.google.com/github/ChronoBoot/sante-publique-france-off-enhancer/blob/test/notebook/open_food_fact_filtering.ipynb\" target=\"_parent\"><img src=\"https://colab.research.google.com/assets/colab-badge.svg\" alt=\"Open In Colab\"/></a>"
      ]
    },
    {
      "cell_type": "markdown",
      "metadata": {
        "id": "3kIaf24S7OqP"
      },
      "source": [
        "# Data prepartion for Open Food Facts"
      ]
    },
    {
      "cell_type": "markdown",
      "metadata": {
        "id": "zf-iYGfj64uX"
      },
      "source": [
        "## File loading and main class"
      ]
    },
    {
      "cell_type": "code",
      "execution_count": null,
      "metadata": {
        "id": "ZIALxMvnupoI"
      },
      "outputs": [],
      "source": [
        "import pandas as pd\n",
        "\n",
        "off_df = pd.read_csv('fr.openfoodfacts.org.products.csv', delimiter = '\\t', low_memory=False)"
      ]
    },
    {
      "cell_type": "code",
      "execution_count": null,
      "metadata": {
        "colab": {
          "base_uri": "https://localhost:8080/"
        },
        "id": "Qo5hSbZd4QqS",
        "outputId": "6a2c99ee-a943-46da-845e-1fe6ad3aad28"
      },
      "outputs": [
        {
          "name": "stdout",
          "output_type": "stream",
          "text": [
            "Number of products 320772\n"
          ]
        }
      ],
      "source": [
        "print(f\"Number of products {len(off_df)}\")"
      ]
    },
    {
      "cell_type": "code",
      "execution_count": null,
      "metadata": {
        "id": "V5zyBCVHAGJb"
      },
      "outputs": [],
      "source": [
        "class DataFrameField:\n",
        "    @staticmethod\n",
        "    def process_na_percent(col, set_na_percent=False):\n",
        "      na_percent = col.isna().mean() * 100\n",
        "      return na_percent\n",
        "\n",
        "    def __init__(self, name, dtype=None, na_percent=None, field_type=None):\n",
        "        \"\"\"\n",
        "        Initialize a DataFrameField object with only the name required at creation.\n",
        "        Other attributes can be set later.\n",
        "\n",
        "        Parameters:\n",
        "        - name (str): The name of the DataFrame column.\n",
        "        - dtype (str, optional): The data type of the column. Defaults to None.\n",
        "        - na_percent (float, optional): The percentage of missing (NA) values in the column. Defaults to None.\n",
        "        - field_type (str, optional): Specifies whether the field is 'categorical' or 'numerical'. Defaults to None.\n",
        "        \"\"\"\n",
        "        self.name = name\n",
        "        self.dtype = dtype\n",
        "        self.na_percent = na_percent\n",
        "        # The percentage of non-mising values in the column\n",
        "        self.fill_percent = 100 - na_percent if na_percent is not None else None\n",
        "        self.field_type = field_type\n",
        "\n",
        "    def __repr__(self):\n",
        "        \"\"\"\n",
        "        Provide a string representation of the DataFrameField instance.\n",
        "        \"\"\"\n",
        "        return (f\"DataFrameField(name='{self.name}', dtype='{self.dtype}', \"\n",
        "                f\"na_percent='{self.na_percent}', fill_percent='{self.fill_percent}',\"\n",
        "                f\"field_type='{self.field_type}')\")\n",
        "\n",
        "    def display_info(self):\n",
        "        \"\"\"\n",
        "        Print out the details of the DataFrameField instance.\n",
        "        \"\"\"\n",
        "        print(f\"Column Name: {self.name}\")\n",
        "        if self.dtype:\n",
        "            print(f\"Data Type: {self.dtype}\")\n",
        "        if self.na_percent is not None:\n",
        "            print(f\"Percentage of Missing Values: {self.na_percent}%\")\n",
        "        if self.fill_percent is not None :\n",
        "            print(f\"Percent of Non-Missing Values: {self.fill_percent}\")\n",
        "        if self.field_type:\n",
        "            print(f\"Field Type: {self.field_type}\")\n",
        "\n",
        "    # Additional methods to set attributes after object creation\n",
        "    def set_dtype(self, dtype):\n",
        "        self.dtype = dtype\n",
        "\n",
        "    def set_na_percent(self, na_percent):\n",
        "        self.na_percent = na_percent\n",
        "        self.fill_percent = 100 - na_percent\n",
        "\n",
        "    def set_field_type(self, field_type):\n",
        "        self.field_type = field_type\n",
        "\n",
        "    def process_and_set_na_percent(self, col):\n",
        "        na_percent = DataFrameField.process_na_percent(col)\n",
        "        self.set_na_percent(na_percent)\n",
        "\n"
      ]
    },
    {
      "cell_type": "markdown",
      "metadata": {
        "id": "AFIoJKID7KUT"
      },
      "source": [
        "## Step 1 : Cleaning and filtering of features and products"
      ]
    },
    {
      "cell_type": "markdown",
      "metadata": {
        "id": "ZVRjbXuE7emO"
      },
      "source": [
        "### Feature listing\n",
        "\n",
        "Split the columns attributes in 2, categorical and numerical"
      ]
    },
    {
      "cell_type": "code",
      "execution_count": null,
      "metadata": {
        "id": "XquJl1kG8zPk"
      },
      "outputs": [],
      "source": [
        "def feature_listing(off_df):\n",
        "  categorical_columns = []\n",
        "  numerical_columns = []\n",
        "\n",
        "  for name, dtype in off_df.dtypes.items():\n",
        "    na_percent = DataFrameField.process_na_percent(off_df[name])\n",
        "\n",
        "    if(dtype == 'int64' or dtype == 'float64'):\n",
        "      df_col = DataFrameField(name, dtype, na_percent, field_type='numerical')\n",
        "      numerical_columns.append(df_col)\n",
        "    else:\n",
        "      df_col = DataFrameField(name, dtype, na_percent, field_type='categorical')\n",
        "      categorical_columns.append(df_col)\n",
        "\n",
        "  df_fields = categorical_columns + numerical_columns\n",
        "\n",
        "  return categorical_columns, numerical_columns, df_fields"
      ]
    },
    {
      "cell_type": "code",
      "execution_count": null,
      "metadata": {
        "id": "FvK5izZZ9dZl"
      },
      "outputs": [],
      "source": [
        "categorical_columns, numerical_columns, df_fields = feature_listing(off_df)\n",
        "\n",
        "print(\"########## Categorical columns ##########\")\n",
        "\n",
        "for col in categorical_columns :\n",
        "  print(col)\n",
        "\n",
        "print(\"#######################################\")\n",
        "\n",
        "print(\"##########  Numerical columns ##########\")\n",
        "\n",
        "for col in numerical_columns :\n",
        "  print(col)\n",
        "\n",
        "print(\"#######################################\")"
      ]
    },
    {
      "cell_type": "markdown",
      "metadata": {
        "id": "caypVRJV9vfN"
      },
      "source": [
        "### Find a target"
      ]
    },
    {
      "cell_type": "markdown",
      "metadata": {
        "id": "mZCseBvl90au"
      },
      "source": [
        "We find which columns have more than 50% of values missing and we return the one with the most amount of non-missing values.\n",
        "We will prefer to have the target to be as close a 50% missing value as possible because with too little values, prediction is going to be harder and less reliable"
      ]
    },
    {
      "cell_type": "code",
      "execution_count": null,
      "metadata": {
        "id": "S3oeioNzB-Wj"
      },
      "outputs": [],
      "source": [
        "def find_target(columns):\n",
        "  candidates = []\n",
        "  for col in columns :\n",
        "    if col.na_percent > 50 :\n",
        "      candidates.append(col)\n",
        "\n",
        "  return candidates\n",
        "\n",
        "def get_recommanded_target(columns, nb_choice = 1):\n",
        "  candidates = find_target(columns)\n",
        "  targets = []\n",
        "\n",
        "  for i in range (0, nb_choice):\n",
        "    target = min(candidates, key = lambda candidate : candidate.na_percent)\n",
        "    targets.append(target)\n",
        "    candidates.remove(target)\n",
        "\n",
        "  return targets\n"
      ]
    },
    {
      "cell_type": "code",
      "execution_count": null,
      "metadata": {
        "colab": {
          "base_uri": "https://localhost:8080/"
        },
        "id": "_WrhbOYiC9oa",
        "outputId": "8467cacc-ba65-40f5-d92a-8f3f902597d8"
      },
      "outputs": [
        {
          "name": "stdout",
          "output_type": "stream",
          "text": [
            "Number of candidates : 36\n",
            "DataFrameField(name='additives_tags', dtype='object', na_percent='51.77883356402678', fill_percent='48.22116643597322',field_type='categorical')\n",
            "DataFrameField(name='additives_fr', dtype='object', na_percent='51.77883356402678', fill_percent='48.22116643597322',field_type='categorical')\n",
            "DataFrameField(name='quantity', dtype='object', na_percent='67.32289601336775', fill_percent='32.67710398663225',field_type='categorical')\n",
            "DataFrameField(name='pnns_groups_2', dtype='object', na_percent='70.54262840896337', fill_percent='29.457371591036633',field_type='categorical')\n",
            "DataFrameField(name='pnns_groups_1', dtype='object', na_percent='71.47101367949821', fill_percent='28.528986320501787',field_type='categorical')\n",
            "DataFrameField(name='categories_fr', dtype='object', na_percent='73.68504732333247', fill_percent='26.31495267666753',field_type='categorical')\n",
            "DataFrameField(name='categories', dtype='object', na_percent='73.68535907124063', fill_percent='26.314640928759374',field_type='categorical')\n",
            "DataFrameField(name='categories_tags', dtype='object', na_percent='73.69190577731224', fill_percent='26.308094222687757',field_type='categorical')\n",
            "DataFrameField(name='main_category', dtype='object', na_percent='73.69907597920017', fill_percent='26.300924020799826',field_type='categorical')\n",
            "DataFrameField(name='main_category_fr', dtype='object', na_percent='73.69907597920017', fill_percent='26.300924020799826',field_type='categorical')\n"
          ]
        }
      ],
      "source": [
        "candidates = find_target(categorical_columns)\n",
        "\n",
        "nb_candidates = len(candidates)\n",
        "\n",
        "print(f\"Number of candidates : {nb_candidates}\")\n",
        "\n",
        "targets = get_recommanded_target(categorical_columns, 10)\n",
        "\n",
        "for target in targets :\n",
        "  print(target)"
      ]
    },
    {
      "cell_type": "code",
      "execution_count": null,
      "metadata": {
        "id": "-RFnqjKc-v4y"
      },
      "outputs": [],
      "source": [
        "target_name = \"pnns_groups_1\""
      ]
    },
    {
      "cell_type": "markdown",
      "metadata": {
        "id": "WiAWX9UXHJbx"
      },
      "source": [
        "The chosen target is pnns_group_1 which most like stands for PNNS (Programme National Nutrition Santé) which categorize foods."
      ]
    },
    {
      "cell_type": "markdown",
      "metadata": {
        "id": "KgLrqyua-UMd"
      },
      "source": [
        "### Remove rows without the target value"
      ]
    },
    {
      "cell_type": "code",
      "execution_count": null,
      "metadata": {
        "id": "78F47PCYHtmQ"
      },
      "outputs": [],
      "source": [
        "def filtered_row(df, target_name):\n",
        "  filtered_off_df = df[df[target_name].notna()]\n",
        "  return filtered_off_df"
      ]
    },
    {
      "cell_type": "code",
      "execution_count": null,
      "metadata": {
        "colab": {
          "base_uri": "https://localhost:8080/"
        },
        "id": "aRpecEu5b7dI",
        "outputId": "f6503832-f7ef-4872-e402-8f17af17d3b8"
      },
      "outputs": [
        {
          "name": "stdout",
          "output_type": "stream",
          "text": [
            "Number of product with PNNS indicated : 91513\n"
          ]
        }
      ],
      "source": [
        "filtered_off_df = filtered_row(off_df, target_name)\n",
        "print(f\"Number of product with PNNS indicated : {len(filtered_off_df)}\")"
      ]
    },
    {
      "cell_type": "markdown",
      "metadata": {
        "id": "Atv2T1D--lmY"
      },
      "source": [
        "### Separate target from dataset"
      ]
    },
    {
      "cell_type": "code",
      "execution_count": null,
      "metadata": {
        "id": "TFHlLWtt-qWR"
      },
      "outputs": [],
      "source": [
        "def separate_target_from_dataset(target_name, df, df_fields):\n",
        "  target_col = df[target_name]\n",
        "  filtered_off_df = df.drop(target_name, axis=1)\n",
        "  df_fields = [field for field in df_fields if field.name != target_name]\n",
        "\n",
        "  return target_col, filtered_off_df, df_fields"
      ]
    },
    {
      "cell_type": "code",
      "execution_count": null,
      "metadata": {
        "id": "6aEkLvANc7Iv"
      },
      "outputs": [],
      "source": [
        "target_col, filtered_off_df, df_fields = separate_target_from_dataset(target_name, filtered_off_df, df_fields)"
      ]
    },
    {
      "cell_type": "markdown",
      "metadata": {
        "id": "p7HNXbBI_MeQ"
      },
      "source": [
        "### Display the fill rates of the features of the dataset"
      ]
    },
    {
      "cell_type": "code",
      "execution_count": null,
      "metadata": {
        "colab": {
          "background_save": true
        },
        "id": "B2F6VnOs_uYB"
      },
      "outputs": [],
      "source": [
        "def display_rate(df_fields):\n",
        "  for field in df_fields :\n",
        "    field.process_and_set_na_percent(filtered_off_df[field.name])\n",
        "    print(f\"Fill rate {field.name} : {field.fill_percent}\")"
      ]
    },
    {
      "cell_type": "code",
      "execution_count": null,
      "metadata": {
        "colab": {
          "background_save": true
        },
        "id": "K5MEo-I6cw5x",
        "outputId": "7782700a-17f6-4336-cfd1-8e5c72014558"
      },
      "outputs": [
        {
          "name": "stdout",
          "output_type": "stream",
          "text": [
            "Fill rate code : 100.0\n",
            "Fill rate url : 100.0\n",
            "Fill rate creator : 99.99781451815589\n",
            "Fill rate created_t : 100.0\n",
            "Fill rate created_datetime : 99.99890725907794\n",
            "Fill rate last_modified_t : 100.0\n",
            "Fill rate last_modified_datetime : 100.0\n",
            "Fill rate product_name : 96.7053861200048\n",
            "Fill rate generic_name : 56.05542381956662\n",
            "Fill rate quantity : 88.98189328292155\n",
            "Fill rate packaging : 80.52407854621748\n",
            "Fill rate packaging_tags : 80.52735676898364\n",
            "Fill rate brands : 95.82791515959481\n",
            "Fill rate brands_tags : 95.82463693682865\n",
            "Fill rate categories : 88.93599816419525\n",
            "Fill rate categories_tags : 88.93599816419525\n",
            "Fill rate categories_fr : 88.93599816419525\n",
            "Fill rate origins : 22.94537388130648\n",
            "Fill rate origins_tags : 22.904942467190466\n",
            "Fill rate manufacturing_places : 38.41530711483614\n",
            "Fill rate manufacturing_places_tags : 38.408750669303814\n",
            "Fill rate labels : 45.989094445597885\n",
            "Fill rate labels_tags : 46.0830701648946\n",
            "Fill rate labels_fr : 46.0830701648946\n",
            "Fill rate emb_codes : 31.611902134123014\n",
            "Fill rate emb_codes_tags : 31.607531170434797\n",
            "Fill rate first_packaging_code_geo : 20.34246500497197\n",
            "Fill rate cities : 0.0\n",
            "Fill rate cities_tags : 21.985947351742368\n",
            "Fill rate purchase_places : 61.39346322380427\n",
            "Fill rate stores : 54.7845661272169\n",
            "Fill rate countries : 99.83390337984767\n",
            "Fill rate countries_tags : 99.83390337984767\n",
            "Fill rate countries_fr : 99.83390337984767\n",
            "Fill rate ingredients_text : 76.71150546916832\n",
            "Fill rate allergens : 29.79030301705768\n",
            "Fill rate allergens_fr : 0.0\n",
            "Fill rate traces : 26.133991891862365\n",
            "Fill rate traces_tags : 26.132899150940304\n",
            "Fill rate traces_fr : 26.132899150940304\n",
            "Fill rate serving_size : 38.289641908799844\n",
            "Fill rate additives : 76.67981598242872\n",
            "Fill rate additives_tags : 41.97982800257887\n",
            "Fill rate additives_fr : 41.97982800257887\n",
            "Fill rate ingredients_from_palm_oil_tags : 4.3895402838940925\n",
            "Fill rate ingredients_that_may_be_from_palm_oil_tags : 7.672134013746685\n",
            "Fill rate nutrition_grade_fr : 67.53575994667425\n",
            "Fill rate pnns_groups_2 : 100.0\n",
            "Fill rate states : 100.0\n",
            "Fill rate states_tags : 100.0\n",
            "Fill rate states_fr : 100.0\n",
            "Fill rate main_category : 88.93599816419525\n",
            "Fill rate main_category_fr : 88.93599816419525\n",
            "Fill rate image_url : 69.1246052473419\n",
            "Fill rate image_small_url : 69.1246052473419\n",
            "Fill rate no_nutriments : 0.0\n",
            "Fill rate additives_n : 76.71150546916832\n",
            "Fill rate ingredients_from_palm_oil_n : 76.71150546916832\n",
            "Fill rate ingredients_from_palm_oil : 0.0\n",
            "Fill rate ingredients_that_may_be_from_palm_oil_n : 76.71150546916832\n",
            "Fill rate ingredients_that_may_be_from_palm_oil : 0.0\n",
            "Fill rate nutrition_grade_uk : 0.0\n",
            "Fill rate energy_100g : 74.09985466545737\n",
            "Fill rate energy-from-fat_100g : 0.9364789702009659\n",
            "Fill rate fat_100g : 70.35612426649766\n",
            "Fill rate saturated-fat_100g : 69.17377858883438\n",
            "Fill rate butyric-acid_100g : 0.0\n",
            "Fill rate caproic-acid_100g : 0.0\n",
            "Fill rate caprylic-acid_100g : 0.0010927409220613526\n",
            "Fill rate capric-acid_100g : 0.0021854818441084944\n",
            "Fill rate lauric-acid_100g : 0.004370963688216989\n",
            "Fill rate myristic-acid_100g : 0.0010927409220613526\n",
            "Fill rate palmitic-acid_100g : 0.0010927409220613526\n",
            "Fill rate stearic-acid_100g : 0.0010927409220613526\n",
            "Fill rate arachidic-acid_100g : 0.0010927409220613526\n",
            "Fill rate behenic-acid_100g : 0.0\n",
            "Fill rate lignoceric-acid_100g : 0.0\n",
            "Fill rate cerotic-acid_100g : 0.0\n",
            "Fill rate montanic-acid_100g : 0.0010927409220613526\n",
            "Fill rate melissic-acid_100g : 0.0\n",
            "Fill rate monounsaturated-fat_100g : 2.340651055041363\n",
            "Fill rate polyunsaturated-fat_100g : 2.366876837170679\n",
            "Fill rate omega-3-fat_100g : 0.8534306601247863\n",
            "Fill rate alpha-linolenic-acid_100g : 0.20324981150218946\n",
            "Fill rate eicosapentaenoic-acid_100g : 0.036060450427811475\n",
            "Fill rate docosahexaenoic-acid_100g : 0.06010075071300491\n",
            "Fill rate omega-6-fat_100g : 0.20543529334629795\n",
            "Fill rate linoleic-acid_100g : 0.162818397386161\n",
            "Fill rate arachidonic-acid_100g : 0.008741927376448189\n",
            "Fill rate gamma-linolenic-acid_100g : 0.0010927409220613526\n",
            "Fill rate dihomo-gamma-linolenic-acid_100g : 0.0\n",
            "Fill rate omega-9-fat_100g : 0.022947559363146297\n",
            "Fill rate oleic-acid_100g : 0.01420563198671232\n",
            "Fill rate elaidic-acid_100g : 0.0\n",
            "Fill rate gondoic-acid_100g : 0.0\n",
            "Fill rate mead-acid_100g : 0.0\n",
            "Fill rate erucic-acid_100g : 0.0\n",
            "Fill rate nervonic-acid_100g : 0.0\n",
            "Fill rate trans-fat_100g : 2.0620021199173806\n",
            "Fill rate cholesterol_100g : 2.2401188902123153\n",
            "Fill rate carbohydrates_100g : 69.86548359249505\n",
            "Fill rate sugars_100g : 69.50706457006109\n",
            "Fill rate sucrose_100g : 0.06993541901150024\n",
            "Fill rate glucose_100g : 0.00983466829849533\n",
            "Fill rate fructose_100g : 0.031689486739580275\n",
            "Fill rate lactose_100g : 0.22838285270945846\n",
            "Fill rate maltose_100g : 0.004370963688216989\n",
            "Fill rate maltodextrins_100g : 0.012020150142603825\n",
            "Fill rate starch_100g : 0.29066908526657187\n",
            "Fill rate polyols_100g : 0.41414880945876575\n",
            "Fill rate fiber_100g : 45.08430496213652\n",
            "Fill rate proteins_100g : 73.37208921136887\n",
            "Fill rate casein_100g : 0.02950400489547178\n",
            "Fill rate serum-proteins_100g : 0.017483854752882166\n",
            "Fill rate nucleotides_100g : 0.00983466829849533\n",
            "Fill rate salt_100g : 69.79445543256149\n",
            "Fill rate sodium_100g : 69.78571350518506\n",
            "Fill rate alcohol_100g : 1.9636554369324557\n",
            "Fill rate vitamin-a_100g : 2.337372832275193\n",
            "Fill rate beta-carotene_100g : 0.017483854752882166\n",
            "Fill rate vitamin-d_100g : 1.0304546894976596\n",
            "Fill rate vitamin-e_100g : 1.232611760077802\n",
            "Fill rate vitamin-k_100g : 0.10818135128342021\n",
            "Fill rate vitamin-c_100g : 3.2989848436833995\n",
            "Fill rate vitamin-b1_100g : 1.3812245254772506\n",
            "Fill rate vitamin-b2_100g : 1.1462852272354809\n",
            "Fill rate vitamin-pp_100g : 1.1615836001442403\n",
            "Fill rate vitamin-b6_100g : 1.1419142635472497\n",
            "Fill rate vitamin-b9_100g : 1.1288013724825987\n",
            "Fill rate folates_100g : 0.008741927376448189\n",
            "Fill rate vitamin-b12_100g : 0.988930534459584\n",
            "Fill rate biotin_100g : 0.28083441696807654\n",
            "Fill rate pantothenic-acid_100g : 0.6436244030902714\n",
            "Fill rate silica_100g : 0.041524155038089816\n",
            "Fill rate bicarbonate_100g : 0.08851201468644376\n",
            "Fill rate potassium_100g : 0.8752854785658855\n",
            "Fill rate chloride_100g : 0.17265306568465633\n",
            "Fill rate calcium_100g : 4.905313999103953\n",
            "Fill rate phosphorus_100g : 0.9211805972921923\n",
            "Fill rate iron_100g : 3.1230535552325875\n",
            "Fill rate magnesium_100g : 1.3211237747642457\n",
            "Fill rate zinc_100g : 0.44146733251014325\n",
            "Fill rate copper_100g : 0.1857659567493215\n",
            "Fill rate manganese_100g : 0.16828210199643934\n",
            "Fill rate fluoride_100g : 0.08632653284233527\n",
            "Fill rate selenium_100g : 0.14642728355534018\n",
            "Fill rate chromium_100g : 0.021854818441084944\n",
            "Fill rate molybdenum_100g : 0.012020150142603825\n",
            "Fill rate iodine_100g : 0.20106432965808096\n",
            "Fill rate caffeine_100g : 0.05463704610274078\n",
            "Fill rate taurine_100g : 0.031689486739580275\n",
            "Fill rate ph_100g : 0.05354430518067943\n",
            "Fill rate fruits-vegetables-nuts_100g : 3.3120977347480647\n",
            "Fill rate collagen-meat-protein-ratio_100g : 0.18030225213904316\n",
            "Fill rate cocoa_100g : 1.035918394107938\n",
            "Fill rate chlorophyl_100g : 0.0\n",
            "Fill rate carbon-footprint_100g : 0.29285456711068036\n",
            "Fill rate nutrition-score-fr_100g : 67.53575994667425\n",
            "Fill rate nutrition-score-uk_100g : 67.53575994667425\n",
            "Fill rate glycemic-index_100g : 0.0\n",
            "Fill rate water-hardness_100g : 0.0\n"
          ]
        }
      ],
      "source": [
        "display_rate(df_fields)"
      ]
    },
    {
      "cell_type": "markdown",
      "metadata": {
        "id": "CvRocj2aEHG3"
      },
      "source": [
        "### Feature selection\n",
        "\n",
        "We select features with more than 50% of non-missing values which could be use for predicting our target"
      ]
    },
    {
      "cell_type": "code",
      "execution_count": null,
      "metadata": {
        "id": "pvBCWZzXETch"
      },
      "outputs": [],
      "source": [
        "def features_selection(df_fields):\n",
        "  features = []\n",
        "\n",
        "  for field in df_fields:\n",
        "    if(field.fill_percent > 50):\n",
        "      features.append(field)\n",
        "\n",
        "  return features"
      ]
    },
    {
      "cell_type": "code",
      "execution_count": null,
      "metadata": {
        "id": "2KAarPjAF1KG"
      },
      "outputs": [],
      "source": [
        "features = features_selection(df_fields)\n",
        "\n",
        "for feature in features :\n",
        "  print(feature)"
      ]
    },
    {
      "cell_type": "markdown",
      "metadata": {
        "id": "G2tdqJ4aK5fo"
      },
      "source": [
        "The features that have been selected are as follow :\n",
        "\n",
        "- ingredients_text\n",
        "- additives\n",
        "- additives_n\n",
        "- ingredients_from_palm_oil_n\n",
        "- ingredients_that_may_be_from_palm_oil_n\n",
        "- energy_100g\n",
        "- fat_100g\n",
        "- saturated-fat_100g\n",
        "- carbohydrates_100g\n",
        "- sugars_100g\n",
        "- fiber_100g\n",
        "- proteins_100g\n",
        "- salt_100g\n",
        "- sodium_100g\n",
        "\n",
        "They are focus on the ingredients or nutrition facts"
      ]
    },
    {
      "cell_type": "markdown",
      "metadata": {
        "id": "05oQyvayRA02"
      },
      "source": [
        "### Delete duplicates"
      ]
    },
    {
      "cell_type": "markdown",
      "metadata": {
        "id": "7HOEMx20S-EC"
      },
      "source": [
        "We consider that 2 products with the same name are a duplicate"
      ]
    },
    {
      "cell_type": "code",
      "source": [
        "def delete_duplicates(df, identifier_name):\n",
        "   df[identifier_name] = df[identifier_name].str.lower().str.strip().str.replace(\" \", \"\")\n",
        "   no_duplicate_df = df.drop_duplicates(subset=identifier_name)\n",
        "   return no_duplicate_df"
      ],
      "metadata": {
        "id": "DqLsF-8Gjdfh"
      },
      "execution_count": 168,
      "outputs": []
    },
    {
      "cell_type": "code",
      "execution_count": 165,
      "metadata": {
        "id": "dntGzhZ4RDwz"
      },
      "outputs": [],
      "source": [
        "identifier_name = 'product_name'\n",
        "\n",
        "filtered_off_no_duplicates = delete_duplicates(filtered_off_df, identifier_name)"
      ]
    },
    {
      "cell_type": "markdown",
      "metadata": {
        "id": "5tXJEJ2taiWL"
      },
      "source": [
        "### Main function to clean and filter features and products"
      ]
    },
    {
      "cell_type": "code",
      "source": [
        "def main(df):\n",
        "  categorical_columns, numerical_columns, df_fields = feature_listing(df)\n",
        "\n",
        "  candidates = find_target(categorical_columns)\n",
        "\n",
        "  target_name = \"pnns_groups_1\"\n",
        "\n",
        "  filtered_off_df = filtered_row(df, target_name)\n",
        "  print(f\"Number of lines with {target_name} : {len(filtered_off_df)}\")\n",
        "\n",
        "  target_col, filtered_off_df, df_fields = separate_target_from_dataset(target_name, filtered_off_df, df_fields)\n",
        "\n",
        "  #display_rate(df_fields)\n",
        "\n",
        "  features = features_selection(df_fields)\n",
        "\n",
        "  identifier_name = 'product_name'\n",
        "\n",
        "  filtered_off_no_duplicates = delete_duplicates(filtered_off_df, identifier_name)\n",
        "  print(f\"Number of lines with {target_name} and without duplicates: {len(filtered_off_no_duplicates)}\")\n"
      ],
      "metadata": {
        "id": "M_rIcUgdiiVl"
      },
      "execution_count": 171,
      "outputs": []
    },
    {
      "cell_type": "code",
      "source": [
        "main(off_df)"
      ],
      "metadata": {
        "colab": {
          "base_uri": "https://localhost:8080/"
        },
        "id": "5E0ftvqgijto",
        "outputId": "7ebcda6f-7e5c-4808-a901-914765faa104"
      },
      "execution_count": 172,
      "outputs": [
        {
          "output_type": "stream",
          "name": "stdout",
          "text": [
            "Number of lines with pnns_groups_1 : 91513\n",
            "Number of lines with pnns_groups_1 and without duplicates: 66607\n"
          ]
        }
      ]
    },
    {
      "cell_type": "markdown",
      "metadata": {
        "id": "UoLX0g2V9Agx"
      },
      "source": [
        "## Step 2 : Identify and process incoherent values"
      ]
    },
    {
      "cell_type": "markdown",
      "metadata": {
        "id": "7iIv6_aF9HjE"
      },
      "source": [
        "## Step 3 : Identify and process missing values"
      ]
    },
    {
      "cell_type": "markdown",
      "metadata": {
        "id": "hRQ0sa8f9PME"
      },
      "source": [
        "## Step 4 : Perform univariate and bivariate analyses"
      ]
    },
    {
      "cell_type": "markdown",
      "metadata": {
        "id": "6erdzQaU9gDt"
      },
      "source": [
        "## Step 5 : Perform a multivariate analysis"
      ]
    }
  ],
  "metadata": {
    "colab": {
      "collapsed_sections": [
        "caypVRJV9vfN",
        "KgLrqyua-UMd",
        "Atv2T1D--lmY",
        "p7HNXbBI_MeQ"
      ],
      "provenance": [],
      "authorship_tag": "ABX9TyMxpqWMBZl2M0Xms0LEkENQ",
      "include_colab_link": true
    },
    "kernelspec": {
      "display_name": "Python 3",
      "name": "python3"
    },
    "language_info": {
      "name": "python"
    }
  },
  "nbformat": 4,
  "nbformat_minor": 0
}